{
 "cells": [
  {
   "cell_type": "code",
   "execution_count": 1,
   "id": "56b0fafc",
   "metadata": {},
   "outputs": [
    {
     "name": "stderr",
     "output_type": "stream",
     "text": [
      "WARNING (theano.link.c.cmodule): install mkl with `conda install mkl-service`: No module named 'mkl'\n"
     ]
    }
   ],
   "source": [
    "### MANUAL INPUT NEEDED ###\n",
    "\n",
    "import sys\n",
    "import os, fnmatch\n",
    "from functions import *\n",
    "\n",
    "import pandas as pd\n",
    "import matplotlib.pyplot as plt\n",
    "import arviz as az\n",
    "\n",
    "import time\n",
    "import juliet\n",
    "\n",
    "root_path = '/Users/mason/data/' # root path for where you want to store outputs\n",
    "date = '18Jul22' # will be used to create a new folder to store the data in\n",
    "tag = '' # if you need to add an additional identifier to the folder name\n",
    "\n",
    "random = np.random.default_rng(47) # fix the random number generator\n"
   ]
  },
  {
   "cell_type": "markdown",
   "id": "f13e5931",
   "metadata": {},
   "source": [
    "# Set up transit / LC parameters"
   ]
  },
  {
   "cell_type": "code",
   "execution_count": 2,
   "id": "73958839",
   "metadata": {},
   "outputs": [],
   "source": [
    "### MANUAL INPUT NEEDED ###\n",
    "\n",
    "### General Manual Inputs ###\n",
    "\n",
    "# Light curve\n",
    "cadence = 30       # in minutes\n",
    "oversample = 11    # amount of oversampling assumed for the data\n",
    "N_transits = 10    # number of transits to synthesize\n",
    "\n",
    "# Planet\n",
    "per_inj = 26.12    # period in days\n",
    "t0_inj = 1.0       # transit midpoint in days\n",
    "ror_inj = 0.03     # planet-star radius ratio\n",
    "\n",
    "# Star\n",
    "rho_test = rhosun          # stellar density (set to solar)\n",
    "rho_test_err = rhosun*0.1  # uncertainty in stellar density (set to 10%)\n",
    "u_vals = [0.4, 0.25]       # quadratic limb darkening coefficients\n"
   ]
  },
  {
   "cell_type": "code",
   "execution_count": 10,
   "id": "31ba184b",
   "metadata": {},
   "outputs": [],
   "source": [
    "### MANUAL INPUT NEEDED ###\n",
    "\n",
    "### Sensitive Manual Inputs ###\n",
    "\n",
    "snr   = 20      # desired signal-to-noise\n",
    "\n",
    "b_inj = 0.5     # impact parameter\n",
    "e_inj = 0.8     # eccentricity\n",
    "w_inj = pi_2    # omega (in radians)\n",
    "\n",
    "### Or if you want to select from a grid of inputs, use the code in the cell below instead"
   ]
  },
  {
   "cell_type": "code",
   "execution_count": 11,
   "id": "84a4236a",
   "metadata": {},
   "outputs": [],
   "source": [
    "##################################################################\n",
    "######################## ORIGINAL Grid ###########################\n",
    "##################################################################\n",
    "\n",
    "if False: # switch to True if you want to select inputs from this grid\n",
    "    run_num = 25 # change this to select a different point in the grid\n",
    "    \n",
    "    b_grid = 1-np.geomspace(0.9,0.1,5)\n",
    "    snr_grid = np.array([20,40,80])\n",
    "    e_grid = np.geomspace(0.05,0.8,5)\n",
    "    w_grid = np.array([pi_2, 132*pi_180, 178*pi_180, 226*pi_180, 3*pi_2])\n",
    "\n",
    "\n",
    "    points = []\n",
    "\n",
    "    for ww in w_grid:\n",
    "        for ss in snr_grid:\n",
    "            for bb in b_grid:\n",
    "                for ee in e_grid:\n",
    "                    point = [bb, ss, ee, ww]\n",
    "                    points.append(point)\n",
    "\n",
    "\n",
    "    point = points[int(run_num-1)]\n",
    "\n",
    "    b_inj, snr, e_inj, w_inj = point\n"
   ]
  },
  {
   "cell_type": "code",
   "execution_count": 12,
   "id": "ca364e48",
   "metadata": {},
   "outputs": [],
   "source": [
    "### NO ACTION NEEDED ###\n",
    "\n",
    "# Computes duration (T14, via Winn 2010 equation) and sigma_noise\n",
    "\n",
    "dur_inj = calc_T14(per_inj, rho_test, b_inj, ror_inj, e_inj, w_inj)\n",
    "sigma_noise = calc_noise(dur_inj, N_transits, ror_inj, snr, cadence=cadence)\n"
   ]
  },
  {
   "cell_type": "code",
   "execution_count": 13,
   "id": "6c837825",
   "metadata": {},
   "outputs": [],
   "source": [
    "### NO ACTION NEEDED ###\n",
    "\n",
    "# Sets up paths and file/folder names\n",
    "\n",
    "run_params = '-s'+str(snr)+'-b'+str(round(b_inj,2)).ljust(4, '0')+'-e'+str(round(e_inj,2)).ljust(4, '0')+'-w'+str(int(w_inj*180/np.pi)).zfill(3)\n",
    "folder = 'test_' + date + run_params\n",
    "dir_path = root_path + date + tag + '/' + folder + '/'\n",
    "\n",
    "if os.path.isdir(root_path) == False:\n",
    "    os.mkdir(root_path)\n",
    "\n",
    "if os.path.isdir(root_path + date + tag + '/') == False:\n",
    "    os.mkdir(root_path + date + tag + '/')\n",
    "\n",
    "if os.path.isdir(dir_path) == False:\n",
    "    os.mkdir(dir_path)\n",
    "\n"
   ]
  },
  {
   "cell_type": "code",
   "execution_count": 14,
   "id": "b855eb62",
   "metadata": {},
   "outputs": [],
   "source": [
    "### NO ACTION NEEDED ###\n",
    "\n",
    "# Puts all input parameters into dictionary\n",
    "\n",
    "texp = (60.*cadence)/day\n",
    "\n",
    "TRUTHS = {'PERIOD': per_inj,\n",
    "         'T0': t0_inj,\n",
    "         'DUR14': dur_inj,\n",
    "         'ROR': ror_inj,\n",
    "         'IMPACT': b_inj,\n",
    "         'ECC': e_inj,\n",
    "         'OMEGA': w_inj,\n",
    "         'SNR': snr,\n",
    "         'NOISE': sigma_noise,\n",
    "         'RHOSTAR': rho_test,\n",
    "         'RHOSTARE': rho_test_err,\n",
    "         'LD_U1': u_vals[0],\n",
    "         'LD_U2': u_vals[1],\n",
    "         'MSTAR': 1.0,\n",
    "         'RSTAR': 1.0,\n",
    "         }\n"
   ]
  },
  {
   "cell_type": "markdown",
   "id": "bec28b30",
   "metadata": {},
   "source": [
    "# Create (and plot) synthetic LC"
   ]
  },
  {
   "cell_type": "code",
   "execution_count": 15,
   "id": "1078644f",
   "metadata": {},
   "outputs": [],
   "source": [
    "### MANUAL INPUT NEEDED ###\n",
    "\n",
    "width = dur_inj*5 # change this to change size of final window around the transit"
   ]
  },
  {
   "cell_type": "code",
   "execution_count": 16,
   "id": "2d6ade55",
   "metadata": {},
   "outputs": [
    {
     "name": "stdout",
     "output_type": "stream",
     "text": [
      "Created synthetic lightcurve!\n"
     ]
    }
   ],
   "source": [
    "### NO ACTION NEEDED ###\n",
    "\n",
    "# Creates synthetic light curve\n",
    "\n",
    "n_samples = int((per_inj/texp) * (N_transits - 0.5))\n",
    "x = np.arange(n_samples)*texp\n",
    "\n",
    "y = sigma_noise * random.normal(size=n_samples)\n",
    "yerr = np.full(n_samples, sigma_noise)\n",
    "\n",
    "light_curve_point = simple_model(x, TRUTHS, oversample=oversample)\n",
    "y_true = light_curve_point.flatten()\n",
    "y += light_curve_point.flatten()\n",
    "\n",
    "print('Created synthetic lightcurve!')\n"
   ]
  },
  {
   "cell_type": "code",
   "execution_count": 17,
   "id": "bc4d2482",
   "metadata": {},
   "outputs": [
    {
     "data": {
      "image/png": "[encoded data removed]",
      "text/plain": [
       "<Figure size 1008x504 with 1 Axes>"
      ]
     },
     "metadata": {
      "needs_background": "light"
     },
     "output_type": "display_data"
    }
   ],
   "source": [
    "### NO ACTION NEEDED ###\n",
    "\n",
    "### Plotting code below ###\n",
    "\n",
    "##### Synth LC fit for display purposes only ########\n",
    "texp_synth = texp/100\n",
    "n_samples_synth = int(per_inj/texp_synth)\n",
    "x_test_synth = np.arange(n_samples_synth)*texp_synth\n",
    "\n",
    "light_curve_point_synth = simple_model(x_test_synth , TRUTHS, synth=True, oversample=oversample)\n",
    "y_true_synth = light_curve_point_synth.flatten()\n",
    "\n",
    "x_fold_synth = (x_test_synth - t0_inj + 0.5*per_inj)%per_inj - 0.5*per_inj\n",
    "m_synth = np.abs(x_fold_synth) < width\n",
    "#####################################################\n",
    "\n",
    "x_fold = (x - t0_inj + 0.5*per_inj)%per_inj - 0.5*per_inj\n",
    "m = np.abs(x_fold) < width\n",
    "\n",
    "fig = plt.figure(figsize=(14, 7))\n",
    "plt.rc('text', usetex=False)\n",
    "plt.xticks(fontsize=18)\n",
    "plt.yticks(fontsize=18)\n",
    "plt.ylabel(\"Relative Flux\", fontsize=24)\n",
    "plt.xlabel(\"Time Since Transit [days]\", fontsize=24)\n",
    "\n",
    "plt.plot(x_fold[m], y[m], color='darkgrey', ls='', marker='.')\n",
    "plt.plot((x_test_synth-t0_inj)[m_synth], y_true_synth[m_synth], lw=3, label='true transit synth')\n",
    "plt.legend(fontsize=16)\n",
    "\n",
    "title = folder + \": \" + \"Phase Folded Lightcurve\"\n",
    "plt.title(title, fontsize=25, y=1.03)\n",
    "plt.xlim(-width, width)\n",
    "plt.tight_layout()\n",
    "plt.gcf().subplots_adjust(bottom=0.15)\n",
    "fig.savefig(dir_path + folder + '-folded_lc.png')\n",
    "plt.show()"
   ]
  },
  {
   "cell_type": "code",
   "execution_count": 18,
   "id": "3012413d",
   "metadata": {},
   "outputs": [],
   "source": [
    "### NO ACTION NEEDED ###\n",
    "\n",
    "# Finlizes the synthetic light curve data\n",
    "\n",
    "x_fin, y_fin, yerr_fin = x[m], y[m], yerr[m]\n",
    "\n",
    "data_df = pd.DataFrame()\n",
    "data_df['X'] = x_fin\n",
    "data_df['Y'] = y_fin\n",
    "data_df['Y_ERR'] = yerr_fin\n",
    "\n",
    "data_df.to_csv(dir_path + folder + '-lc_data.csv')\n"
   ]
  },
  {
   "cell_type": "markdown",
   "id": "be2917e5",
   "metadata": {},
   "source": [
    "# Set up and run *juliet* (using *dynesty* and *batman*)"
   ]
  },
  {
   "cell_type": "code",
   "execution_count": 19,
   "id": "6178876c",
   "metadata": {},
   "outputs": [],
   "source": [
    "### MANUAL INPUT NEEDED ###\n",
    "\n",
    "# Define the master prior dictionary. First define the TRANSIT priors:\n",
    "priors = {}\n",
    "\n",
    "# Convert limb darkening coefficients from u to q (Kipping 2013; https://arxiv.org/pdf/1308.0009.pdf)\n",
    "u1 = TRUTHS['LD_U1']\n",
    "u2 = TRUTHS['LD_U2']\n",
    "q1 = (u1+u2)**2\n",
    "q2 = u1 / (2*(u1+u2))\n",
    "\n",
    "# Name of the parameters to be fit:\n",
    "params = ['P_p1','t0_p1','p_p1','b_p1','q1_KEPLER','q2_KEPLER','ecc_p1','omega_p1',\\\n",
    "              'T14_p1', 'mdilution_KEPLER', 'mflux_KEPLER', 'sigma_w_KEPLER']\n",
    "\n",
    "# Distribution for each of the parameters:\n",
    "dists = ['fixed','normal','loguniform','uniform','fixed','fixed','fixed','fixed',\\\n",
    "                 'loguniform', 'fixed', 'fixed', 'fixed']\n",
    "\n",
    "\n",
    "# Set prior boundaries\n",
    "RORMIN = 0.0001\n",
    "RORMAX = 1.0\n",
    "\n",
    "DURMIN = 0.0001\n",
    "DURMAX = 1.0\n",
    "\n",
    "# Hyperparameters of the distributions (mean and standard-deviation for normal\n",
    "# distributions, lower and upper limits for uniform and loguniform distributions, and\n",
    "# fixed values for fixed \"distributions\", which assume the parameter is fixed)\n",
    "hyperps = [TRUTHS['PERIOD'], [TRUTHS['T0'], 0.1], [RORMIN, RORMAX], [0,1+RORMAX], q1, q2, 0., 90.,\\\n",
    "                   [DURMIN, DURMAX], 1.0, 0., TRUTHS['NOISE']]\n",
    "\n",
    "\n",
    "# Populate the priors dictionary:\n",
    "for param, dist, hyperp in zip(params, dists, hyperps):\n",
    "    priors[param] = {}\n",
    "    priors[param]['distribution'], priors[param]['hyperparameters'] = dist, hyperp\n",
    "\n",
    "\n"
   ]
  },
  {
   "cell_type": "code",
   "execution_count": 21,
   "id": "75a38143",
   "metadata": {},
   "outputs": [],
   "source": [
    "### MANUAL INPUT NEEDED ###\n",
    "\n",
    "# Set desired hyperparameters for nested sampling model\n",
    "n_live_points = 5000\n",
    "n_effective   = 10000\n",
    "dlogz  = 0.001\n",
    "ecclim = 0.99\n",
    "\n",
    "# Load data into juliet\n",
    "times, fluxes, fluxes_error = {},{},{}\n",
    "t, f, ferr = x_fin, y_fin, yerr_fin\n",
    "times['KEPLER'], fluxes['KEPLER'], fluxes_error['KEPLER'] = t,f+1,ferr\n",
    "\n",
    "dataset = juliet.load(priors=priors, t_lc = times, y_lc = fluxes, \\\n",
    "                   yerr_lc = fluxes_error,\n",
    "                   out_folder = dir_path + folder + '-n'+str(n_live_points)) \n",
    "\n"
   ]
  },
  {
   "cell_type": "code",
   "execution_count": 22,
   "id": "43ba5f45",
   "metadata": {},
   "outputs": [
    {
     "name": "stderr",
     "output_type": "stream",
     "text": [
      "73347it [12:36, 96.98it/s, +5000 | bound: 78 | nc: 1 | ncall: 1544550 | eff(%):  5.089 | loglstar:   -inf < 2227.352 <    inf | logz: 2211.500 +/-    nan | dlogz:  0.001 >  0.001]\n"
     ]
    },
    {
     "name": "stdout",
     "output_type": "stream",
     "text": [
      "n_effective: 10000.084058049757\n",
      "time to complete (seconds): 759.1510920524597\n"
     ]
    }
   ],
   "source": [
    "### NO ACTION NEEDED ###\n",
    "\n",
    "# Now time to fit \n",
    "t0=time.time()\n",
    "results = dataset.fit(sampler='dynesty', ecclim=ecclim,\n",
    "                      n_live_points=n_live_points, n_effective=n_effective, dlogz=dlogz, \n",
    "                      lc_instrument_supersamp=['KEPLER'], \n",
    "                      lc_n_supersamp=[oversample], \n",
    "                      lc_exptime_supersamp=[texp], \n",
    "                      verbose=False)\n",
    "\n",
    "t1=time.time()\n",
    "print('time to complete (seconds):', t1-t0)\n",
    "\n"
   ]
  },
  {
   "cell_type": "markdown",
   "id": "ef5a6958",
   "metadata": {},
   "source": [
    "# Results"
   ]
  },
  {
   "cell_type": "code",
   "execution_count": 25,
   "id": "389f1bd0",
   "metadata": {},
   "outputs": [
    {
     "name": "stdout",
     "output_type": "stream",
     "text": [
      "Effective sample sizes (according to arviz):\n",
      "ROR:  9.741953567815678\n",
      "IMPACT:  9.845500166134444\n",
      "DUR14:  9.658797045724882\n"
     ]
    }
   ],
   "source": [
    "### NO ACTION NEEDED ###\n",
    "\n",
    "# Save outputs to a pandas dataframe\n",
    "old_cols = ['loglike', 'p_p1', 'b_p1', 'T14_p1']\n",
    "new_cols = ['LN_LIKE', 'ROR', 'IMPACT', 'DUR14']\n",
    "\n",
    "trace_df = pd.DataFrame()\n",
    "\n",
    "print('Effective sample sizes (according to arviz):')\n",
    "for i, col in enumerate(new_cols):\n",
    "    old_col = old_cols[i]\n",
    "    trace_df[col] = results.posteriors['posterior_samples'][old_col]\n",
    "    if col != 'LN_LIKE':\n",
    "        print(col + ': ', az.ess(trace_df[col].values))\n",
    "\n",
    "trace_df.to_csv(dir_path + folder + '-samples' + '-time_' + str(round(t1-t0,2))+'s' + '.csv')\n",
    "\n",
    "#### I still do not understand why dynesty says that the # of effective samples is big but arviz says it is small..?\n",
    "#### if you could figure out why this is, please let me know!"
   ]
  },
  {
   "cell_type": "code",
   "execution_count": 26,
   "id": "2c1b4ea3",
   "metadata": {},
   "outputs": [
    {
     "data": {
      "image/png": "[encoded data removed]",
      "text/plain": [
       "<Figure size 864x720 with 4 Axes>"
      ]
     },
     "metadata": {
      "needs_background": "light"
     },
     "output_type": "display_data"
    }
   ],
   "source": [
    "### NO ACTION NEEDED ###\n",
    "\n",
    "# Plots the data\n",
    "\n",
    "trace_df.hist(figsize=(12,10), bins=25);"
   ]
  },
  {
   "cell_type": "raw",
   "id": "499d190a",
   "metadata": {},
   "source": []
  }
 ],
 "metadata": {
  "kernelspec": {
   "display_name": "Python 3",
   "language": "python",
   "name": "python3"
  },
  "language_info": {
   "codemirror_mode": {
    "name": "ipython",
    "version": 3
   },
   "file_extension": ".py",
   "mimetype": "text/x-python",
   "name": "python",
   "nbconvert_exporter": "python",
   "pygments_lexer": "ipython3",
   "version": "3.9.12"
  }
 },
 "nbformat": 4,
 "nbformat_minor": 5
}
